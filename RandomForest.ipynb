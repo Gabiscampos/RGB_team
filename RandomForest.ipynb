{
 "cells": [
  {
   "cell_type": "code",
   "execution_count": 37,
   "metadata": {},
   "outputs": [
    {
     "data": {
      "text/html": [
       "<script>requirejs.config({paths: { 'plotly': ['https://cdn.plot.ly/plotly-latest.min']},});if(!window.Plotly) {{require(['plotly'],function(plotly) {window.Plotly=plotly;});}}</script>"
      ],
      "text/vnd.plotly.v1+html": [
       "<script>requirejs.config({paths: { 'plotly': ['https://cdn.plot.ly/plotly-latest.min']},});if(!window.Plotly) {{require(['plotly'],function(plotly) {window.Plotly=plotly;});}}</script>"
      ]
     },
     "metadata": {},
     "output_type": "display_data"
    }
   ],
   "source": [
    "from sklearn.metrics import mean_squared_error, r2_score\n",
    "from sklearn.pipeline import Pipeline\n",
    "from sklearn.preprocessing import StandardScaler\n",
    "from sklearn.externals import joblib\n",
    "\n",
    "import pandas as pd\n",
    "import numpy as np\n",
    "import seaborn as sns\n",
    "from tqdm import tqdm\n",
    "\n",
    "from plotting import multiple_histograms_plot\n",
    "from pipeline import LogFeaturesTransform\n",
    "from sklearn.model_selection import train_test_split, GridSearchCV\n",
    "from lightgbm import LGBMClassifier, plot_metric, plot_tree, create_tree_digraph\n",
    "from auto_lgbm import find_n_estimators, grid_search\n",
    "\n",
    "from sklearn.metrics import log_loss\n",
    "from evaluation import predictions_hist, confusion_matrix_report, grid_search_report\n",
    "\n",
    "import shap\n",
    "import matplotlib.pyplot as plt\n",
    "import math\n",
    "\n",
    "import plotly.plotly as py\n",
    "import plotly.graph_objs as go\n",
    "import plotly.tools as tls\n",
    "\n",
    "from plotly.offline import init_notebook_mode, iplot\n",
    "init_notebook_mode(connected=True)\n",
    "from sklearn.tree import DecisionTreeClassifier\n",
    "from sklearn.ensemble import RandomForestClassifier\n",
    "from sklearn.metrics import roc_auc_score\n",
    "\n",
    "\n",
    "from sklearn.metrics import log_loss\n",
    "from evaluation import predictions_hist, confusion_matrix_report, grid_search_report"
   ]
  },
  {
   "cell_type": "code",
   "execution_count": 2,
   "metadata": {},
   "outputs": [],
   "source": [
    "df = pd.read_csv('creditcard.csv')"
   ]
  },
  {
   "cell_type": "code",
   "execution_count": 3,
   "metadata": {},
   "outputs": [
    {
     "name": "stdout",
     "output_type": "stream",
     "text": [
      "0    284315\n",
      "1       492\n",
      "Name: Class, dtype: int64\n",
      "\n",
      "0.001727485630620034\n"
     ]
    }
   ],
   "source": [
    "print(df.Class.value_counts())\n",
    "print()\n",
    "print(df['Class'].mean()) "
   ]
  },
  {
   "cell_type": "code",
   "execution_count": 4,
   "metadata": {},
   "outputs": [],
   "source": [
    "y = df[['Class']]"
   ]
  },
  {
   "cell_type": "code",
   "execution_count": 5,
   "metadata": {},
   "outputs": [],
   "source": [
    "x = df.drop(columns='Class')"
   ]
  },
  {
   "cell_type": "code",
   "execution_count": 6,
   "metadata": {},
   "outputs": [],
   "source": [
    "xtrain, xtest, ytrain, ytest = train_test_split(x,y, test_size=0.2, stratify=y, random_state=1)"
   ]
  },
  {
   "cell_type": "code",
   "execution_count": 7,
   "metadata": {},
   "outputs": [
    {
     "data": {
      "text/plain": [
       "Class    394\n",
       "dtype: int64"
      ]
     },
     "execution_count": 7,
     "metadata": {},
     "output_type": "execute_result"
    }
   ],
   "source": [
    "ytrain.sum()"
   ]
  },
  {
   "cell_type": "code",
   "execution_count": 8,
   "metadata": {},
   "outputs": [
    {
     "data": {
      "text/plain": [
       "Class    98\n",
       "dtype: int64"
      ]
     },
     "execution_count": 8,
     "metadata": {},
     "output_type": "execute_result"
    }
   ],
   "source": [
    "ytest.sum()"
   ]
  },
  {
   "cell_type": "code",
   "execution_count": 9,
   "metadata": {},
   "outputs": [],
   "source": [
    "xtrain_true = xtrain[ytrain['Class'] == 1] \n",
    "xtrain_false = xtrain[ytrain['Class'] == 0]"
   ]
  },
  {
   "cell_type": "code",
   "execution_count": 10,
   "metadata": {},
   "outputs": [
    {
     "data": {
      "text/html": [
       "<div>\n",
       "<style scoped>\n",
       "    .dataframe tbody tr th:only-of-type {\n",
       "        vertical-align: middle;\n",
       "    }\n",
       "\n",
       "    .dataframe tbody tr th {\n",
       "        vertical-align: top;\n",
       "    }\n",
       "\n",
       "    .dataframe thead th {\n",
       "        text-align: right;\n",
       "    }\n",
       "</style>\n",
       "<table border=\"1\" class=\"dataframe\">\n",
       "  <thead>\n",
       "    <tr style=\"text-align: right;\">\n",
       "      <th></th>\n",
       "      <th>Time</th>\n",
       "      <th>V1</th>\n",
       "      <th>V2</th>\n",
       "      <th>V3</th>\n",
       "      <th>V4</th>\n",
       "      <th>V5</th>\n",
       "      <th>V6</th>\n",
       "      <th>V7</th>\n",
       "      <th>V8</th>\n",
       "      <th>V9</th>\n",
       "      <th>...</th>\n",
       "      <th>V20</th>\n",
       "      <th>V21</th>\n",
       "      <th>V22</th>\n",
       "      <th>V23</th>\n",
       "      <th>V24</th>\n",
       "      <th>V25</th>\n",
       "      <th>V26</th>\n",
       "      <th>V27</th>\n",
       "      <th>V28</th>\n",
       "      <th>Amount</th>\n",
       "    </tr>\n",
       "  </thead>\n",
       "  <tbody>\n",
       "    <tr>\n",
       "      <th>count</th>\n",
       "      <td>394.000000</td>\n",
       "      <td>394.000000</td>\n",
       "      <td>394.000000</td>\n",
       "      <td>394.000000</td>\n",
       "      <td>394.000000</td>\n",
       "      <td>394.000000</td>\n",
       "      <td>394.000000</td>\n",
       "      <td>394.000000</td>\n",
       "      <td>394.000000</td>\n",
       "      <td>394.000000</td>\n",
       "      <td>...</td>\n",
       "      <td>394.000000</td>\n",
       "      <td>394.000000</td>\n",
       "      <td>394.000000</td>\n",
       "      <td>394.000000</td>\n",
       "      <td>394.000000</td>\n",
       "      <td>394.000000</td>\n",
       "      <td>394.000000</td>\n",
       "      <td>394.000000</td>\n",
       "      <td>394.000000</td>\n",
       "      <td>394.000000</td>\n",
       "    </tr>\n",
       "    <tr>\n",
       "      <th>mean</th>\n",
       "      <td>80499.611675</td>\n",
       "      <td>-4.613735</td>\n",
       "      <td>3.536156</td>\n",
       "      <td>-6.878303</td>\n",
       "      <td>4.468144</td>\n",
       "      <td>-3.018317</td>\n",
       "      <td>-1.406307</td>\n",
       "      <td>-5.330795</td>\n",
       "      <td>0.657250</td>\n",
       "      <td>-2.445369</td>\n",
       "      <td>...</td>\n",
       "      <td>0.326114</td>\n",
       "      <td>0.825200</td>\n",
       "      <td>-0.020084</td>\n",
       "      <td>-0.063944</td>\n",
       "      <td>-0.107400</td>\n",
       "      <td>0.056199</td>\n",
       "      <td>0.039361</td>\n",
       "      <td>0.198264</td>\n",
       "      <td>0.096053</td>\n",
       "      <td>123.349086</td>\n",
       "    </tr>\n",
       "    <tr>\n",
       "      <th>std</th>\n",
       "      <td>48162.787760</td>\n",
       "      <td>6.608897</td>\n",
       "      <td>4.168226</td>\n",
       "      <td>6.963960</td>\n",
       "      <td>2.844114</td>\n",
       "      <td>5.295959</td>\n",
       "      <td>1.916835</td>\n",
       "      <td>6.939668</td>\n",
       "      <td>6.902580</td>\n",
       "      <td>2.451831</td>\n",
       "      <td>...</td>\n",
       "      <td>1.357058</td>\n",
       "      <td>3.886912</td>\n",
       "      <td>1.482234</td>\n",
       "      <td>1.688020</td>\n",
       "      <td>0.520988</td>\n",
       "      <td>0.806648</td>\n",
       "      <td>0.467572</td>\n",
       "      <td>1.251943</td>\n",
       "      <td>0.533844</td>\n",
       "      <td>252.859298</td>\n",
       "    </tr>\n",
       "    <tr>\n",
       "      <th>min</th>\n",
       "      <td>406.000000</td>\n",
       "      <td>-30.552380</td>\n",
       "      <td>-8.402154</td>\n",
       "      <td>-31.103685</td>\n",
       "      <td>-1.313275</td>\n",
       "      <td>-22.105532</td>\n",
       "      <td>-6.406267</td>\n",
       "      <td>-43.557242</td>\n",
       "      <td>-41.044261</td>\n",
       "      <td>-13.434066</td>\n",
       "      <td>...</td>\n",
       "      <td>-4.128186</td>\n",
       "      <td>-22.797604</td>\n",
       "      <td>-8.887017</td>\n",
       "      <td>-19.254328</td>\n",
       "      <td>-2.028024</td>\n",
       "      <td>-4.781606</td>\n",
       "      <td>-1.152671</td>\n",
       "      <td>-7.263482</td>\n",
       "      <td>-1.869290</td>\n",
       "      <td>0.000000</td>\n",
       "    </tr>\n",
       "    <tr>\n",
       "      <th>25%</th>\n",
       "      <td>41290.000000</td>\n",
       "      <td>-5.972454</td>\n",
       "      <td>1.134992</td>\n",
       "      <td>-8.606982</td>\n",
       "      <td>2.300244</td>\n",
       "      <td>-4.758199</td>\n",
       "      <td>-2.559963</td>\n",
       "      <td>-7.801176</td>\n",
       "      <td>-0.135707</td>\n",
       "      <td>-3.828323</td>\n",
       "      <td>...</td>\n",
       "      <td>-0.178603</td>\n",
       "      <td>0.098377</td>\n",
       "      <td>-0.521865</td>\n",
       "      <td>-0.349276</td>\n",
       "      <td>-0.434334</td>\n",
       "      <td>-0.299993</td>\n",
       "      <td>-0.262623</td>\n",
       "      <td>-0.020917</td>\n",
       "      <td>-0.067442</td>\n",
       "      <td>1.000000</td>\n",
       "    </tr>\n",
       "    <tr>\n",
       "      <th>50%</th>\n",
       "      <td>74647.500000</td>\n",
       "      <td>-2.304607</td>\n",
       "      <td>2.679071</td>\n",
       "      <td>-5.050324</td>\n",
       "      <td>4.136683</td>\n",
       "      <td>-1.402998</td>\n",
       "      <td>-1.424616</td>\n",
       "      <td>-2.843863</td>\n",
       "      <td>0.621508</td>\n",
       "      <td>-1.991845</td>\n",
       "      <td>...</td>\n",
       "      <td>0.270066</td>\n",
       "      <td>0.596733</td>\n",
       "      <td>0.049493</td>\n",
       "      <td>-0.080102</td>\n",
       "      <td>-0.061408</td>\n",
       "      <td>0.106593</td>\n",
       "      <td>-0.009778</td>\n",
       "      <td>0.386073</td>\n",
       "      <td>0.148218</td>\n",
       "      <td>10.495000</td>\n",
       "    </tr>\n",
       "    <tr>\n",
       "      <th>75%</th>\n",
       "      <td>128576.000000</td>\n",
       "      <td>-0.357602</td>\n",
       "      <td>4.904522</td>\n",
       "      <td>-2.093609</td>\n",
       "      <td>6.283622</td>\n",
       "      <td>0.320265</td>\n",
       "      <td>-0.357445</td>\n",
       "      <td>-0.898702</td>\n",
       "      <td>1.812047</td>\n",
       "      <td>-0.753221</td>\n",
       "      <td>...</td>\n",
       "      <td>0.817065</td>\n",
       "      <td>1.295662</td>\n",
       "      <td>0.615132</td>\n",
       "      <td>0.308483</td>\n",
       "      <td>0.287740</td>\n",
       "      <td>0.481128</td>\n",
       "      <td>0.388845</td>\n",
       "      <td>0.797768</td>\n",
       "      <td>0.384480</td>\n",
       "      <td>105.620000</td>\n",
       "    </tr>\n",
       "    <tr>\n",
       "      <th>max</th>\n",
       "      <td>170348.000000</td>\n",
       "      <td>2.132386</td>\n",
       "      <td>22.057729</td>\n",
       "      <td>2.041003</td>\n",
       "      <td>11.927512</td>\n",
       "      <td>11.095089</td>\n",
       "      <td>6.474115</td>\n",
       "      <td>5.802537</td>\n",
       "      <td>20.007208</td>\n",
       "      <td>3.353525</td>\n",
       "      <td>...</td>\n",
       "      <td>11.059004</td>\n",
       "      <td>27.202839</td>\n",
       "      <td>8.361985</td>\n",
       "      <td>5.466230</td>\n",
       "      <td>1.091435</td>\n",
       "      <td>2.208209</td>\n",
       "      <td>2.745261</td>\n",
       "      <td>3.052358</td>\n",
       "      <td>1.779364</td>\n",
       "      <td>1809.680000</td>\n",
       "    </tr>\n",
       "  </tbody>\n",
       "</table>\n",
       "<p>8 rows × 30 columns</p>\n",
       "</div>"
      ],
      "text/plain": [
       "                Time          V1          V2          V3          V4  \\\n",
       "count     394.000000  394.000000  394.000000  394.000000  394.000000   \n",
       "mean    80499.611675   -4.613735    3.536156   -6.878303    4.468144   \n",
       "std     48162.787760    6.608897    4.168226    6.963960    2.844114   \n",
       "min       406.000000  -30.552380   -8.402154  -31.103685   -1.313275   \n",
       "25%     41290.000000   -5.972454    1.134992   -8.606982    2.300244   \n",
       "50%     74647.500000   -2.304607    2.679071   -5.050324    4.136683   \n",
       "75%    128576.000000   -0.357602    4.904522   -2.093609    6.283622   \n",
       "max    170348.000000    2.132386   22.057729    2.041003   11.927512   \n",
       "\n",
       "               V5          V6          V7          V8          V9  \\\n",
       "count  394.000000  394.000000  394.000000  394.000000  394.000000   \n",
       "mean    -3.018317   -1.406307   -5.330795    0.657250   -2.445369   \n",
       "std      5.295959    1.916835    6.939668    6.902580    2.451831   \n",
       "min    -22.105532   -6.406267  -43.557242  -41.044261  -13.434066   \n",
       "25%     -4.758199   -2.559963   -7.801176   -0.135707   -3.828323   \n",
       "50%     -1.402998   -1.424616   -2.843863    0.621508   -1.991845   \n",
       "75%      0.320265   -0.357445   -0.898702    1.812047   -0.753221   \n",
       "max     11.095089    6.474115    5.802537   20.007208    3.353525   \n",
       "\n",
       "          ...              V20         V21         V22         V23  \\\n",
       "count     ...       394.000000  394.000000  394.000000  394.000000   \n",
       "mean      ...         0.326114    0.825200   -0.020084   -0.063944   \n",
       "std       ...         1.357058    3.886912    1.482234    1.688020   \n",
       "min       ...        -4.128186  -22.797604   -8.887017  -19.254328   \n",
       "25%       ...        -0.178603    0.098377   -0.521865   -0.349276   \n",
       "50%       ...         0.270066    0.596733    0.049493   -0.080102   \n",
       "75%       ...         0.817065    1.295662    0.615132    0.308483   \n",
       "max       ...        11.059004   27.202839    8.361985    5.466230   \n",
       "\n",
       "              V24         V25         V26         V27         V28       Amount  \n",
       "count  394.000000  394.000000  394.000000  394.000000  394.000000   394.000000  \n",
       "mean    -0.107400    0.056199    0.039361    0.198264    0.096053   123.349086  \n",
       "std      0.520988    0.806648    0.467572    1.251943    0.533844   252.859298  \n",
       "min     -2.028024   -4.781606   -1.152671   -7.263482   -1.869290     0.000000  \n",
       "25%     -0.434334   -0.299993   -0.262623   -0.020917   -0.067442     1.000000  \n",
       "50%     -0.061408    0.106593   -0.009778    0.386073    0.148218    10.495000  \n",
       "75%      0.287740    0.481128    0.388845    0.797768    0.384480   105.620000  \n",
       "max      1.091435    2.208209    2.745261    3.052358    1.779364  1809.680000  \n",
       "\n",
       "[8 rows x 30 columns]"
      ]
     },
     "execution_count": 10,
     "metadata": {},
     "output_type": "execute_result"
    }
   ],
   "source": [
    "xtrain_true.describe()"
   ]
  },
  {
   "cell_type": "code",
   "execution_count": 11,
   "metadata": {},
   "outputs": [
    {
     "data": {
      "text/html": [
       "<div>\n",
       "<style scoped>\n",
       "    .dataframe tbody tr th:only-of-type {\n",
       "        vertical-align: middle;\n",
       "    }\n",
       "\n",
       "    .dataframe tbody tr th {\n",
       "        vertical-align: top;\n",
       "    }\n",
       "\n",
       "    .dataframe thead th {\n",
       "        text-align: right;\n",
       "    }\n",
       "</style>\n",
       "<table border=\"1\" class=\"dataframe\">\n",
       "  <thead>\n",
       "    <tr style=\"text-align: right;\">\n",
       "      <th></th>\n",
       "      <th>Time</th>\n",
       "      <th>V1</th>\n",
       "      <th>V2</th>\n",
       "      <th>V3</th>\n",
       "      <th>V4</th>\n",
       "      <th>V5</th>\n",
       "      <th>V6</th>\n",
       "      <th>V7</th>\n",
       "      <th>V8</th>\n",
       "      <th>V9</th>\n",
       "      <th>...</th>\n",
       "      <th>V20</th>\n",
       "      <th>V21</th>\n",
       "      <th>V22</th>\n",
       "      <th>V23</th>\n",
       "      <th>V24</th>\n",
       "      <th>V25</th>\n",
       "      <th>V26</th>\n",
       "      <th>V27</th>\n",
       "      <th>V28</th>\n",
       "      <th>Amount</th>\n",
       "    </tr>\n",
       "  </thead>\n",
       "  <tbody>\n",
       "    <tr>\n",
       "      <th>count</th>\n",
       "      <td>227451.000000</td>\n",
       "      <td>227451.000000</td>\n",
       "      <td>227451.000000</td>\n",
       "      <td>227451.000000</td>\n",
       "      <td>227451.000000</td>\n",
       "      <td>227451.000000</td>\n",
       "      <td>227451.000000</td>\n",
       "      <td>227451.000000</td>\n",
       "      <td>227451.000000</td>\n",
       "      <td>227451.000000</td>\n",
       "      <td>...</td>\n",
       "      <td>227451.000000</td>\n",
       "      <td>227451.000000</td>\n",
       "      <td>227451.000000</td>\n",
       "      <td>227451.000000</td>\n",
       "      <td>227451.000000</td>\n",
       "      <td>227451.000000</td>\n",
       "      <td>227451.000000</td>\n",
       "      <td>227451.000000</td>\n",
       "      <td>227451.000000</td>\n",
       "      <td>227451.000000</td>\n",
       "    </tr>\n",
       "    <tr>\n",
       "      <th>mean</th>\n",
       "      <td>94732.229364</td>\n",
       "      <td>0.007278</td>\n",
       "      <td>-0.007161</td>\n",
       "      <td>0.014476</td>\n",
       "      <td>-0.003894</td>\n",
       "      <td>0.002367</td>\n",
       "      <td>0.004524</td>\n",
       "      <td>0.009256</td>\n",
       "      <td>-0.001045</td>\n",
       "      <td>0.004479</td>\n",
       "      <td>...</td>\n",
       "      <td>-0.001362</td>\n",
       "      <td>-0.001406</td>\n",
       "      <td>0.000934</td>\n",
       "      <td>0.000877</td>\n",
       "      <td>-0.000195</td>\n",
       "      <td>0.000039</td>\n",
       "      <td>-0.000369</td>\n",
       "      <td>-0.000389</td>\n",
       "      <td>-0.000193</td>\n",
       "      <td>88.649291</td>\n",
       "    </tr>\n",
       "    <tr>\n",
       "      <th>std</th>\n",
       "      <td>47518.510340</td>\n",
       "      <td>1.925116</td>\n",
       "      <td>1.622239</td>\n",
       "      <td>1.459825</td>\n",
       "      <td>1.401090</td>\n",
       "      <td>1.361337</td>\n",
       "      <td>1.331251</td>\n",
       "      <td>1.186733</td>\n",
       "      <td>1.166301</td>\n",
       "      <td>1.087899</td>\n",
       "      <td>...</td>\n",
       "      <td>0.766427</td>\n",
       "      <td>0.715130</td>\n",
       "      <td>0.723361</td>\n",
       "      <td>0.613299</td>\n",
       "      <td>0.605862</td>\n",
       "      <td>0.521554</td>\n",
       "      <td>0.482210</td>\n",
       "      <td>0.402095</td>\n",
       "      <td>0.330567</td>\n",
       "      <td>250.017768</td>\n",
       "    </tr>\n",
       "    <tr>\n",
       "      <th>min</th>\n",
       "      <td>0.000000</td>\n",
       "      <td>-56.407510</td>\n",
       "      <td>-72.715728</td>\n",
       "      <td>-48.325589</td>\n",
       "      <td>-5.683171</td>\n",
       "      <td>-113.743307</td>\n",
       "      <td>-26.160506</td>\n",
       "      <td>-31.764946</td>\n",
       "      <td>-73.216718</td>\n",
       "      <td>-6.290730</td>\n",
       "      <td>...</td>\n",
       "      <td>-54.497720</td>\n",
       "      <td>-34.830382</td>\n",
       "      <td>-10.933144</td>\n",
       "      <td>-36.666000</td>\n",
       "      <td>-2.836627</td>\n",
       "      <td>-8.696627</td>\n",
       "      <td>-2.534330</td>\n",
       "      <td>-22.565679</td>\n",
       "      <td>-15.430084</td>\n",
       "      <td>0.000000</td>\n",
       "    </tr>\n",
       "    <tr>\n",
       "      <th>25%</th>\n",
       "      <td>54116.000000</td>\n",
       "      <td>-0.920264</td>\n",
       "      <td>-0.601080</td>\n",
       "      <td>-0.882790</td>\n",
       "      <td>-0.845815</td>\n",
       "      <td>-0.691651</td>\n",
       "      <td>-0.764770</td>\n",
       "      <td>-0.552959</td>\n",
       "      <td>-0.208346</td>\n",
       "      <td>-0.639557</td>\n",
       "      <td>...</td>\n",
       "      <td>-0.212155</td>\n",
       "      <td>-0.228083</td>\n",
       "      <td>-0.541120</td>\n",
       "      <td>-0.162018</td>\n",
       "      <td>-0.354109</td>\n",
       "      <td>-0.317501</td>\n",
       "      <td>-0.327644</td>\n",
       "      <td>-0.070772</td>\n",
       "      <td>-0.053007</td>\n",
       "      <td>5.610000</td>\n",
       "    </tr>\n",
       "    <tr>\n",
       "      <th>50%</th>\n",
       "      <td>84619.000000</td>\n",
       "      <td>0.018690</td>\n",
       "      <td>0.063001</td>\n",
       "      <td>0.183126</td>\n",
       "      <td>-0.019510</td>\n",
       "      <td>-0.054424</td>\n",
       "      <td>-0.270864</td>\n",
       "      <td>0.040143</td>\n",
       "      <td>0.022345</td>\n",
       "      <td>-0.049892</td>\n",
       "      <td>...</td>\n",
       "      <td>-0.062945</td>\n",
       "      <td>-0.029477</td>\n",
       "      <td>0.007580</td>\n",
       "      <td>-0.011120</td>\n",
       "      <td>0.041103</td>\n",
       "      <td>0.016918</td>\n",
       "      <td>-0.052640</td>\n",
       "      <td>0.001249</td>\n",
       "      <td>0.011201</td>\n",
       "      <td>22.000000</td>\n",
       "    </tr>\n",
       "    <tr>\n",
       "      <th>75%</th>\n",
       "      <td>139273.000000</td>\n",
       "      <td>1.315650</td>\n",
       "      <td>0.798255</td>\n",
       "      <td>1.028862</td>\n",
       "      <td>0.741542</td>\n",
       "      <td>0.611213</td>\n",
       "      <td>0.402013</td>\n",
       "      <td>0.569897</td>\n",
       "      <td>0.327020</td>\n",
       "      <td>0.597545</td>\n",
       "      <td>...</td>\n",
       "      <td>0.132297</td>\n",
       "      <td>0.185868</td>\n",
       "      <td>0.529244</td>\n",
       "      <td>0.147692</td>\n",
       "      <td>0.438716</td>\n",
       "      <td>0.351194</td>\n",
       "      <td>0.240428</td>\n",
       "      <td>0.090556</td>\n",
       "      <td>0.078027</td>\n",
       "      <td>77.760000</td>\n",
       "    </tr>\n",
       "    <tr>\n",
       "      <th>max</th>\n",
       "      <td>172792.000000</td>\n",
       "      <td>2.451888</td>\n",
       "      <td>18.902453</td>\n",
       "      <td>9.382558</td>\n",
       "      <td>16.715537</td>\n",
       "      <td>34.801666</td>\n",
       "      <td>73.301626</td>\n",
       "      <td>120.589494</td>\n",
       "      <td>18.709255</td>\n",
       "      <td>15.594995</td>\n",
       "      <td>...</td>\n",
       "      <td>39.420904</td>\n",
       "      <td>22.599543</td>\n",
       "      <td>10.503090</td>\n",
       "      <td>22.083545</td>\n",
       "      <td>4.584549</td>\n",
       "      <td>7.519589</td>\n",
       "      <td>3.517346</td>\n",
       "      <td>31.612198</td>\n",
       "      <td>33.847808</td>\n",
       "      <td>25691.160000</td>\n",
       "    </tr>\n",
       "  </tbody>\n",
       "</table>\n",
       "<p>8 rows × 30 columns</p>\n",
       "</div>"
      ],
      "text/plain": [
       "                Time             V1             V2             V3  \\\n",
       "count  227451.000000  227451.000000  227451.000000  227451.000000   \n",
       "mean    94732.229364       0.007278      -0.007161       0.014476   \n",
       "std     47518.510340       1.925116       1.622239       1.459825   \n",
       "min         0.000000     -56.407510     -72.715728     -48.325589   \n",
       "25%     54116.000000      -0.920264      -0.601080      -0.882790   \n",
       "50%     84619.000000       0.018690       0.063001       0.183126   \n",
       "75%    139273.000000       1.315650       0.798255       1.028862   \n",
       "max    172792.000000       2.451888      18.902453       9.382558   \n",
       "\n",
       "                  V4             V5             V6             V7  \\\n",
       "count  227451.000000  227451.000000  227451.000000  227451.000000   \n",
       "mean       -0.003894       0.002367       0.004524       0.009256   \n",
       "std         1.401090       1.361337       1.331251       1.186733   \n",
       "min        -5.683171    -113.743307     -26.160506     -31.764946   \n",
       "25%        -0.845815      -0.691651      -0.764770      -0.552959   \n",
       "50%        -0.019510      -0.054424      -0.270864       0.040143   \n",
       "75%         0.741542       0.611213       0.402013       0.569897   \n",
       "max        16.715537      34.801666      73.301626     120.589494   \n",
       "\n",
       "                  V8             V9      ...                  V20  \\\n",
       "count  227451.000000  227451.000000      ...        227451.000000   \n",
       "mean       -0.001045       0.004479      ...            -0.001362   \n",
       "std         1.166301       1.087899      ...             0.766427   \n",
       "min       -73.216718      -6.290730      ...           -54.497720   \n",
       "25%        -0.208346      -0.639557      ...            -0.212155   \n",
       "50%         0.022345      -0.049892      ...            -0.062945   \n",
       "75%         0.327020       0.597545      ...             0.132297   \n",
       "max        18.709255      15.594995      ...            39.420904   \n",
       "\n",
       "                 V21            V22            V23            V24  \\\n",
       "count  227451.000000  227451.000000  227451.000000  227451.000000   \n",
       "mean       -0.001406       0.000934       0.000877      -0.000195   \n",
       "std         0.715130       0.723361       0.613299       0.605862   \n",
       "min       -34.830382     -10.933144     -36.666000      -2.836627   \n",
       "25%        -0.228083      -0.541120      -0.162018      -0.354109   \n",
       "50%        -0.029477       0.007580      -0.011120       0.041103   \n",
       "75%         0.185868       0.529244       0.147692       0.438716   \n",
       "max        22.599543      10.503090      22.083545       4.584549   \n",
       "\n",
       "                 V25            V26            V27            V28  \\\n",
       "count  227451.000000  227451.000000  227451.000000  227451.000000   \n",
       "mean        0.000039      -0.000369      -0.000389      -0.000193   \n",
       "std         0.521554       0.482210       0.402095       0.330567   \n",
       "min        -8.696627      -2.534330     -22.565679     -15.430084   \n",
       "25%        -0.317501      -0.327644      -0.070772      -0.053007   \n",
       "50%         0.016918      -0.052640       0.001249       0.011201   \n",
       "75%         0.351194       0.240428       0.090556       0.078027   \n",
       "max         7.519589       3.517346      31.612198      33.847808   \n",
       "\n",
       "              Amount  \n",
       "count  227451.000000  \n",
       "mean       88.649291  \n",
       "std       250.017768  \n",
       "min         0.000000  \n",
       "25%         5.610000  \n",
       "50%        22.000000  \n",
       "75%        77.760000  \n",
       "max     25691.160000  \n",
       "\n",
       "[8 rows x 30 columns]"
      ]
     },
     "execution_count": 11,
     "metadata": {},
     "output_type": "execute_result"
    }
   ],
   "source": [
    "xtrain_false.describe()"
   ]
  },
  {
   "cell_type": "code",
   "execution_count": 12,
   "metadata": {},
   "outputs": [
    {
     "data": {
      "text/plain": [
       "<matplotlib.axes._subplots.AxesSubplot at 0x1a21fa6390>"
      ]
     },
     "execution_count": 12,
     "metadata": {},
     "output_type": "execute_result"
    },
    {
     "data": {
      "image/png": "[encoded data removed]",
      "text/plain": [
       "<Figure size 432x288 with 1 Axes>"
      ]
     },
     "metadata": {
      "needs_background": "light"
     },
     "output_type": "display_data"
    }
   ],
   "source": [
    "sns.boxplot(x=ytrain.Class,y=xtrain.Time)"
   ]
  },
  {
   "cell_type": "code",
   "execution_count": 13,
   "metadata": {},
   "outputs": [
    {
     "data": {
      "image/png": "[encoded data removed]",
      "text/plain": [
       "<Figure size 1080x576 with 1 Axes>"
      ]
     },
     "metadata": {
      "needs_background": "light"
     },
     "output_type": "display_data"
    }
   ],
   "source": [
    "a= pd.concat([xtrain,ytrain], axis=1, sort=True)\n",
    "\n",
    "multiple_histograms_plot(data=a, x='Time', hue='Class', density=True, bins=500)"
   ]
  },
  {
   "cell_type": "code",
   "execution_count": 14,
   "metadata": {},
   "outputs": [],
   "source": [
    "# data = [go.Histogram(x=a['Time'], nbinsx=500)]\n",
    "\n",
    "# iplot(data, filename='histogram time')"
   ]
  },
  {
   "cell_type": "code",
   "execution_count": 15,
   "metadata": {},
   "outputs": [
    {
     "data": {
      "image/png": "[encoded data removed]",
      "text/plain": [
       "<Figure size 1080x576 with 1 Axes>"
      ]
     },
     "metadata": {
      "needs_background": "light"
     },
     "output_type": "display_data"
    }
   ],
   "source": [
    "multiple_histograms_plot(data=a, x='Amount', hue='Class', density=True, bins=10)"
   ]
  },
  {
   "cell_type": "code",
   "execution_count": 16,
   "metadata": {},
   "outputs": [
    {
     "data": {
      "text/plain": [
       "<matplotlib.axes._subplots.AxesSubplot at 0x1a298994e0>"
      ]
     },
     "execution_count": 16,
     "metadata": {},
     "output_type": "execute_result"
    },
    {
     "data": {
      "image/png": "[encoded data removed]",
      "text/plain": [
       "<Figure size 432x288 with 1 Axes>"
      ]
     },
     "metadata": {
      "needs_background": "light"
     },
     "output_type": "display_data"
    }
   ],
   "source": [
    "sns.boxplot(x=ytrain.Class,y=xtrain.Amount)"
   ]
  },
  {
   "cell_type": "code",
   "execution_count": 17,
   "metadata": {},
   "outputs": [],
   "source": [
    "a = a.assign(amount_1=lambda x: x.Amount+1)"
   ]
  },
  {
   "cell_type": "code",
   "execution_count": 18,
   "metadata": {},
   "outputs": [
    {
     "data": {
      "image/png": "[encoded data removed]",
      "text/plain": [
       "<Figure size 1080x720 with 1 Axes>"
      ]
     },
     "metadata": {
      "needs_background": "light"
     },
     "output_type": "display_data"
    }
   ],
   "source": [
    "log_cols = ['amount_1']\n",
    "\n",
    "a = LogFeaturesTransform(log_cols).fit_transform(a)\n",
    "\n",
    "new_cols = [f\"log_of_{c}\" for c in log_cols]\n",
    "_ = a[new_cols].hist(bins=50, figsize=(15,10))"
   ]
  },
  {
   "cell_type": "code",
   "execution_count": 19,
   "metadata": {},
   "outputs": [
    {
     "data": {
      "text/plain": [
       "count    227845.000000\n",
       "mean          3.154391\n",
       "std           1.659342\n",
       "min           0.000000\n",
       "25%           1.879465\n",
       "50%           3.135494\n",
       "75%           4.368054\n",
       "max          10.153941\n",
       "Name: log_of_amount_1, dtype: float64"
      ]
     },
     "execution_count": 19,
     "metadata": {},
     "output_type": "execute_result"
    }
   ],
   "source": [
    "a.log_of_amount_1.describe()"
   ]
  },
  {
   "cell_type": "code",
   "execution_count": 20,
   "metadata": {},
   "outputs": [
    {
     "data": {
      "image/png": "[encoded data removed]",
      "text/plain": [
       "<Figure size 1080x576 with 1 Axes>"
      ]
     },
     "metadata": {
      "needs_background": "light"
     },
     "output_type": "display_data"
    }
   ],
   "source": [
    "multiple_histograms_plot(data=a, x='log_of_amount_1', hue='Class', density=True, bins=20)"
   ]
  },
  {
   "cell_type": "code",
   "execution_count": 40,
   "metadata": {},
   "outputs": [],
   "source": [
    "ytrain = ytrain['Class']\n",
    "ytest = ytest['Class']"
   ]
  },
  {
   "cell_type": "code",
   "execution_count": 77,
   "metadata": {},
   "outputs": [
    {
     "data": {
      "text/plain": [
       "RandomForestClassifier(bootstrap=True, class_weight=None, criterion='entropy',\n",
       "            max_depth=None, max_features='auto', max_leaf_nodes=None,\n",
       "            min_impurity_decrease=0.0, min_impurity_split=None,\n",
       "            min_samples_leaf=1, min_samples_split=2,\n",
       "            min_weight_fraction_leaf=0.0, n_estimators=15, n_jobs=-1,\n",
       "            oob_score=False, random_state=None, verbose=0,\n",
       "            warm_start=False)"
      ]
     },
     "execution_count": 77,
     "metadata": {},
     "output_type": "execute_result"
    }
   ],
   "source": [
    "rf = RandomForestClassifier(n_estimators=15,n_jobs=-1, criterion='entropy', )\n",
    "rf.fit(xtrain, ytrain)"
   ]
  },
  {
   "cell_type": "code",
   "execution_count": 87,
   "metadata": {},
   "outputs": [
    {
     "name": "stdout",
     "output_type": "stream",
     "text": [
      "AUC no treino: 0.984771573604061\n",
      "AUC no teste: 0.93361191902197\n"
     ]
    }
   ],
   "source": [
    "ytrain_pred = rf.predict(xtrain)\n",
    "ytest_pred = rf.predict(xtest)\n",
    "\n",
    "print('AUC no treino:', roc_auc_score(ytrain, ytrain_pred))\n",
    "print('AUC no teste:', roc_auc_score(ytest, ytest_pred))"
   ]
  },
  {
   "cell_type": "code",
   "execution_count": 88,
   "metadata": {},
   "outputs": [
    {
     "name": "stdout",
     "output_type": "stream",
     "text": [
      "             precision    recall  f1-score   support\n",
      "\n",
      "          0       1.00      1.00      1.00     56864\n",
      "          1       0.92      0.87      0.89        98\n",
      "\n",
      "avg / total       1.00      1.00      1.00     56962\n",
      "\n",
      "Matrix em teste: None\n"
     ]
    },
    {
     "data": {
      "image/png": "[encoded data removed]",
      "text/plain": [
       "<Figure size 576x576 with 2 Axes>"
      ]
     },
     "metadata": {
      "needs_background": "light"
     },
     "output_type": "display_data"
    }
   ],
   "source": [
    "y_pred_proba_test= rf.predict_proba(xtest)\n",
    "\n",
    "print('Matrix em teste:', confusion_matrix_report(ytest, y_pred_proba_test[:,1]))"
   ]
  },
  {
   "cell_type": "code",
   "execution_count": 81,
   "metadata": {},
   "outputs": [
    {
     "data": {
      "text/plain": [
       "0.012127051807876862"
      ]
     },
     "execution_count": 81,
     "metadata": {},
     "output_type": "execute_result"
    }
   ],
   "source": [
    "log_loss(ytest, ytest_pred)"
   ]
  },
  {
   "cell_type": "code",
   "execution_count": null,
   "metadata": {},
   "outputs": [],
   "source": []
  }
 ],
 "metadata": {
  "kernelspec": {
   "display_name": "Python 3",
   "language": "python",
   "name": "python3"
  },
  "language_info": {
   "codemirror_mode": {
    "name": "ipython",
    "version": 3
   },
   "file_extension": ".py",
   "mimetype": "text/x-python",
   "name": "python",
   "nbconvert_exporter": "python",
   "pygments_lexer": "ipython3",
   "version": "3.6.5"
  }
 },
 "nbformat": 4,
 "nbformat_minor": 2
}
